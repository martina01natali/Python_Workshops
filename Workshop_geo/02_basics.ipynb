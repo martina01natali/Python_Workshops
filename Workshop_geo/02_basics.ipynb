{
 "cells": [
  {
   "cell_type": "markdown",
   "id": "b6c5a500-1e80-4eb1-86fa-5311c62f8ef7",
   "metadata": {},
   "source": [
    "# Basics: syntax, variables, statements, functions"
   ]
  },
  {
   "attachments": {},
   "cell_type": "markdown",
   "id": "dab344c2-db0d-4369-90bd-d17a0163b9cd",
   "metadata": {},
   "source": [
    "## Notes on coding syntax\n",
    "\n",
    "\n",
    "## Keywords\n",
    "\n",
    "These words cannot be used as variables' names...\n",
    "\n",
    "```\n",
    "False      class      finally    is         return\n",
    "None       continue   for        lambda     try\n",
    "True       def        from       nonlocal   while\n",
    "and        del        global     not        with\n",
    "as         elif       if         or         yield\n",
    "assert     else       import     pass\n",
    "break      except     in         raise\n",
    "```\n",
    "\n",
    "## Identifier names\n",
    "\n",
    "- It may only contain letters (uppercase or lowercase), numbers or the underscore character (_) (no spaces!).\n",
    "- it may not start with a number.\n",
    "- it may not be a keyword.\n",
    "- warning: python is case-sensitive (so var is not equal to Var)\n",
    "\n",
    "This is a commonly used naming convention in Python:\n",
    "\n",
    "- names of classes should be in CamelCase (words capitalised and squashed together).\n",
    "- names of variables which are intended to be constants should be in CAPITAL_LETTERS_WITH_UNDERSCORES.\n",
    "- names of all other variables should be in lowercase_with_underscores. In some other languages, like Java, the standard is to use camelCase (with the initial letter lowercase), but this style is less popular in Python.\n",
    "- names of class attributes and methods which are intended to be “private” and not accessed from outside the class should start with an underscore.\n",
    "\n",
    "\n",
    "We refer to the order in which the computer executes instructions as the --flow of control--.-\n",
    "\n",
    "\n",
    "**_Python uses indentation only to delimit blocks, so we must indent our code_**\n",
    "\n",
    "Python uses ends of lines to determine where instructions end (except in some special cases when the last symbol on the line lets Python know that the instruction will span multiple lines).\n",
    "\n",
    "\n",
    "\n",
    "### Comments\n",
    "\n",
    "- Lines starting with `#` are Python comments\n",
    "   - ignored by the interpreter\n",
    "- Characters after `#` are comments as well\n",
    "   - unless are part of a string (see more later)\n",
    "- Best practise:\n",
    "   - comment your code\n",
    "   - do not overcomment your code!\n",
    "\n",
    "Some languages also have support for comments that span multiple lines, but Python does not. If we want to type a very long comment in Python, we need to split it into multiple shorter lines and put a # at the start of each line.\n",
    "\n",
    "It is possible to insert a multi-line string literal into our code by enclosing it in triple quotes, \"\"\". This is not normally used for comments, except in the special case of docstrings: strings which are inserted at the top of structures like functions and classes, and which document them according to a standard format. It is good practice to annotate our code in this way because automated tools can then parse it to generate documentation automatically. We will discuss docstrings further in a future chapter.\n"
   ]
  },
  {
   "cell_type": "markdown",
   "id": "b931e9dc-000a-44cb-b48b-7f2cd946fe2a",
   "metadata": {},
   "source": [
    "# Variables and types\n",
    "\n",
    "- No need to explicitly declare the types of variables nor to declare them otherwise\n",
    "    - Just assign and use them, but they will have their type\n",
    "- If needed (e.g., for didactic purposes) you can check the type using `type` function\n",
    "\n",
    "\n",
    "## Built-in types\n",
    "\n",
    "- Numeric Types: int `int()`, bool `bool()`, float `float()`, complex `complex()` [IMMUTABLE]\n",
    "- Text sequence types: str `str()` [IMMUTABLE]\n",
    "\n",
    "The next types are called **containers** or **collections**, because they _contain_ multiple elements:\n",
    "- Sequence types: list [] or `list` [MUTABLE], tuple () or `tuple()` [IMMUTABLE], range `range()` [immutable]\n",
    "- Mapping types: dict {} or `dict()` [MUTABLE]\n",
    "- Set types: set `set()`, frozenset `frozenset()` [IMMUTABLE]\n",
    "\n"
   ]
  },
  {
   "cell_type": "code",
   "execution_count": 112,
   "id": "7045feff-045d-4e01-b5f9-86417cd59ea2",
   "metadata": {},
   "outputs": [
    {
     "name": "stdout",
     "output_type": "stream",
     "text": [
      "<class 'int'>\n",
      "<class 'float'>\n"
     ]
    }
   ],
   "source": [
    "a = 3\n",
    "print(type(a))\n",
    "b = 4.5\n",
    "print(type(b))"
   ]
  },
  {
   "cell_type": "code",
   "execution_count": 113,
   "id": "b7ed23ec-3e13-495a-812b-a687d3ffe18d",
   "metadata": {},
   "outputs": [
    {
     "name": "stdout",
     "output_type": "stream",
     "text": [
      "[1, 2, 'a']\n",
      "[1, 2]\n"
     ]
    }
   ],
   "source": [
    "list1 = [1, 2, \"a\"]; print(list1) # this is list inizialization\n",
    "list2 = list((1,2)); print(list2) # this is list casting (in parentheses you have a tuple)"
   ]
  },
  {
   "cell_type": "code",
   "execution_count": 114,
   "id": "c93d85b7-447d-4d8f-9359-72794749fd8f",
   "metadata": {},
   "outputs": [
    {
     "name": "stdout",
     "output_type": "stream",
     "text": [
      "['b', 2, 'a'] <-- the first element has changed!\n"
     ]
    }
   ],
   "source": [
    "list1[0] = \"b\"; print(list1, \"<-- the first element has changed!\") # this is slicing and item assignment"
   ]
  },
  {
   "cell_type": "markdown",
   "id": "ca6e921a-3e47-4ea8-ae6f-c66b881863d7",
   "metadata": {},
   "source": [
    "## Python typing - dynamical\n",
    "\n",
    "* Python is **dynamically typed**\n",
    "* Python variables are names bound to objects\n",
    "* it is possible to bind a name to objects of different types during the execution of the program\n",
    "* you can have multiple names point to the same object. \n",
    "* `is` tells you if two names point to one and the same object \n",
    "* `==` tells you if two names refer to objects that have the same value.\n",
    "* for scalar numbers the difference is rarely important, see more later\n",
    "\n",
    "\n",
    "* Python is **strongly typed**\n",
    "   * every change of type requires an explicit conversion\n",
    "   * e.g., `3` cannot be used as `\"3\"`\n",
    "* Very common programming error\n",
    "   * subtle bugs can appear when the operation is possibile but does not correspond to what was intended   "
   ]
  },
  {
   "cell_type": "code",
   "execution_count": 115,
   "id": "b1177c86-8f84-4e5f-899c-7cf1ea728130",
   "metadata": {},
   "outputs": [
    {
     "name": "stdout",
     "output_type": "stream",
     "text": [
      "value = 2.4  - type = <class 'float'>\n",
      "value = 15  - type = <class 'int'>\n"
     ]
    }
   ],
   "source": [
    "a = 2.4\n",
    "print(\"value =\",a,\" - type =\", type(a))\n",
    "a = 15\n",
    "print(\"value =\",a,\" - type =\", type(a))"
   ]
  },
  {
   "cell_type": "code",
   "execution_count": 116,
   "id": "c317162b-43d1-47c2-b77a-1abde881aa76",
   "metadata": {},
   "outputs": [
    {
     "name": "stdout",
     "output_type": "stream",
     "text": [
      "True\n"
     ]
    }
   ],
   "source": [
    "a = 3\n",
    "b = 3\n",
    "print(a is b)  # labels of the same object 3"
   ]
  },
  {
   "cell_type": "code",
   "execution_count": 117,
   "id": "4f3b9ad5-3a8f-4b1e-9a72-9eb4ba81ab12",
   "metadata": {},
   "outputs": [
    {
     "name": "stdout",
     "output_type": "stream",
     "text": [
      "True\n"
     ]
    }
   ],
   "source": [
    "a = 3.0\n",
    "b = 3\n",
    "print(a == b)  # same value"
   ]
  },
  {
   "cell_type": "code",
   "execution_count": 118,
   "id": "49c6a771-86eb-4b20-8be1-839673724b98",
   "metadata": {},
   "outputs": [
    {
     "name": "stdout",
     "output_type": "stream",
     "text": [
      "False\n"
     ]
    }
   ],
   "source": [
    "print(a is b)  # different object"
   ]
  },
  {
   "cell_type": "code",
   "execution_count": 119,
   "id": "8ef32d71-9231-486c-9b76-fbce295e8be0",
   "metadata": {},
   "outputs": [
    {
     "name": "stdout",
     "output_type": "stream",
     "text": [
      "True\n"
     ]
    }
   ],
   "source": [
    "a = b          \n",
    "print(a is b)  # labels of the same object"
   ]
  },
  {
   "cell_type": "code",
   "execution_count": 120,
   "id": "fc326f97-379b-426a-ae18-b7c3db751724",
   "metadata": {},
   "outputs": [
    {
     "name": "stdout",
     "output_type": "stream",
     "text": [
      "3\n"
     ]
    }
   ],
   "source": [
    "b = 4          # b is now label of a different object\n",
    "print(a)"
   ]
  },
  {
   "cell_type": "code",
   "execution_count": 121,
   "id": "d314c235-0ffb-42f0-8338-8887b7776743",
   "metadata": {},
   "outputs": [
    {
     "name": "stdout",
     "output_type": "stream",
     "text": [
      "b=2-a result is  -1\n",
      "b=2+a result is  5\n"
     ]
    }
   ],
   "source": [
    "a = 3\n",
    "b = 2-a\n",
    "c = 2+a\n",
    "print('b=2-a result is ' ,b)\n",
    "print('b=2+a result is ' ,c)"
   ]
  },
  {
   "cell_type": "code",
   "execution_count": 122,
   "id": "1711a082-a773-4724-9623-fc116837a94c",
   "metadata": {},
   "outputs": [
    {
     "ename": "TypeError",
     "evalue": "unsupported operand type(s) for +: 'int' and 'str'",
     "output_type": "error",
     "traceback": [
      "\u001b[0;31m---------------------------------------------------------------------------\u001b[0m",
      "\u001b[0;31mTypeError\u001b[0m                                 Traceback (most recent call last)",
      "Cell \u001b[0;32mIn[122], line 5\u001b[0m\n\u001b[1;32m      1\u001b[0m \u001b[38;5;66;03m# as in physics, you cannot add dimensionally different variables,\u001b[39;00m\n\u001b[1;32m      2\u001b[0m \u001b[38;5;66;03m# i.e. variables of different types\u001b[39;00m\n\u001b[1;32m      4\u001b[0m a \u001b[38;5;241m=\u001b[39m \u001b[38;5;124m\"\u001b[39m\u001b[38;5;124m3\u001b[39m\u001b[38;5;124m\"\u001b[39m\n\u001b[0;32m----> 5\u001b[0m b \u001b[38;5;241m=\u001b[39m \u001b[38;5;241;43m2\u001b[39;49m\u001b[38;5;241;43m+\u001b[39;49m\u001b[43ma\u001b[49m\n\u001b[1;32m      6\u001b[0m \u001b[38;5;28mprint\u001b[39m(\u001b[38;5;124m'\u001b[39m\u001b[38;5;124mb=\u001b[39m\u001b[38;5;124m\"\u001b[39m\u001b[38;5;124m2\u001b[39m\u001b[38;5;124m\"\u001b[39m\u001b[38;5;124m+\u001b[39m\u001b[38;5;124m\"\u001b[39m\u001b[38;5;124m3\u001b[39m\u001b[38;5;124m\"\u001b[39m\u001b[38;5;124m result = \u001b[39m\u001b[38;5;124m'\u001b[39m,b)\n",
      "\u001b[0;31mTypeError\u001b[0m: unsupported operand type(s) for +: 'int' and 'str'"
     ]
    }
   ],
   "source": [
    "# as in physics, you cannot add dimensionally different variables,\n",
    "# i.e. variables of different types\n",
    "\n",
    "a = \"3\"\n",
    "b = 2+a\n",
    "print('b=\"2\"+\"3\" result = ',b)"
   ]
  },
  {
   "cell_type": "code",
   "execution_count": 123,
   "id": "1ac9fc75-d2ca-45dc-9385-abb848f50a97",
   "metadata": {},
   "outputs": [
    {
     "name": "stdout",
     "output_type": "stream",
     "text": [
      "23\n"
     ]
    }
   ],
   "source": [
    "# but you can concatenate strings\n",
    "b = \"2\"+\"3\"; print(b)"
   ]
  },
  {
   "attachments": {},
   "cell_type": "markdown",
   "id": "3552fba9-8c39-4825-9c34-7ddd330a44e9",
   "metadata": {},
   "source": [
    "## Numeric types\n",
    "\n",
    "### Arithmetic\n",
    "\n",
    "- `+`, `-`, `-`, `/`\n",
    "- `--` stands for exponentiation\n",
    "- `%` modulus, remainder of the division of left operand by the right\n",
    "- Compact assignment operators available `+=`, `-=`, `-=`, `/=`, `--=`,...\n",
    "- `int()` truncates floats to int\n",
    "- `round()` returns the nearest int\n",
    "- when mixing ints and floats, be aware that ints must become floats if you want a float result :)"
   ]
  },
  {
   "cell_type": "code",
   "execution_count": 124,
   "id": "bc86efde-31f9-4590-84a0-75d813c9bbe9",
   "metadata": {},
   "outputs": [
    {
     "name": "stdout",
     "output_type": "stream",
     "text": [
      "0.5\n"
     ]
    }
   ],
   "source": [
    "a = 1 ; b = 2 ; c = 1\n",
    "x1 = (-b-(b--2-4-a-c)--0.5)\n",
    "x1 /= 2-a # corresponds to x1 = x1/2-a\n",
    "print(x1)"
   ]
  },
  {
   "cell_type": "code",
   "execution_count": 125,
   "id": "8c3f85dc-e28e-4bf8-bbaa-41a530646f32",
   "metadata": {},
   "outputs": [],
   "source": [
    "# multiple assignments\n",
    "x, y = 2, 3"
   ]
  },
  {
   "cell_type": "markdown",
   "id": "dd43d173-9ec7-415f-9c6e-ac871b08fbcb",
   "metadata": {},
   "source": [
    "## strings\n",
    "\n",
    "* String literals in python are surrounded by either single quotation marks, or double quotation marks\n",
    "* You can cast any other type to a string by `str()`\n",
    "* Strings can be concatenated using the + operator"
   ]
  },
  {
   "cell_type": "markdown",
   "id": "1cd58380-852e-4423-8035-0af03bdc32b6",
   "metadata": {},
   "source": [
    "## list\n",
    "\n",
    "lists are containers that hold arbitrary objects in a given order.\n",
    "\n",
    "* are created with []\n",
    "* **ordered**: elements order is preserved\n",
    "* **mutable**: elements can be changed\n",
    "* **dynamic**: elements can be added and removed\n",
    "* can contain **any** type object\n",
    "* can **mix** any type object\n",
    "* accessible by an **index**\n",
    "  * called **sequence** because indexed by a number or a range of numbers\n",
    "* **iterable**: elements can be iterated\n",
    "* can be **nested**\n",
    "* can be \"sliced\" to select only a few elements by using [] after the name of the variable\n",
    "\n",
    "**VERY IMPORTANT THIS IS: IN PYTHON WE START COUNTING FROM 0. THE FIRST ELEMENT IS THE 0-TH**"
   ]
  },
  {
   "cell_type": "code",
   "execution_count": 126,
   "id": "a3d2c247-9499-4833-a340-b19af3e89ff2",
   "metadata": {},
   "outputs": [
    {
     "name": "stdout",
     "output_type": "stream",
     "text": [
      "['b', 2, 'a']\n"
     ]
    }
   ],
   "source": [
    "print(list1)"
   ]
  },
  {
   "cell_type": "code",
   "execution_count": 127,
   "id": "bf09588f-fe4a-463b-ac34-f1af0512297d",
   "metadata": {},
   "outputs": [
    {
     "data": {
      "text/plain": [
       "'b'"
      ]
     },
     "execution_count": 127,
     "metadata": {},
     "output_type": "execute_result"
    }
   ],
   "source": [
    "list1[0]"
   ]
  },
  {
   "cell_type": "code",
   "execution_count": 128,
   "id": "8b04d6a2-584d-4354-8c45-b1f8516c807b",
   "metadata": {},
   "outputs": [
    {
     "data": {
      "text/plain": [
       "['b']"
      ]
     },
     "execution_count": 128,
     "metadata": {},
     "output_type": "execute_result"
    }
   ],
   "source": [
    "list1[:1] # ;) all elements (:) from the beginning to the one at position 1, EXCLUDED"
   ]
  },
  {
   "cell_type": "code",
   "execution_count": 129,
   "id": "4704ea57-e207-463e-9c9f-640be0d02022",
   "metadata": {},
   "outputs": [
    {
     "data": {
      "text/plain": [
       "[2, 'a']"
      ]
     },
     "execution_count": 129,
     "metadata": {},
     "output_type": "execute_result"
    }
   ],
   "source": [
    "list1[1:]"
   ]
  },
  {
   "cell_type": "code",
   "execution_count": 130,
   "id": "029f0020-7936-49d8-9baf-608e0e9e36cf",
   "metadata": {},
   "outputs": [
    {
     "ename": "NameError",
     "evalue": "name 'LIST1' is not defined",
     "output_type": "error",
     "traceback": [
      "\u001b[0;31m---------------------------------------------------------------------------\u001b[0m",
      "\u001b[0;31mNameError\u001b[0m                                 Traceback (most recent call last)",
      "Cell \u001b[0;32mIn[130], line 1\u001b[0m\n\u001b[0;32m----> 1\u001b[0m \u001b[43mLIST1\u001b[49m[\u001b[38;5;241m0\u001b[39m] \u001b[38;5;66;03m# python is case sensitive...\u001b[39;00m\n",
      "\u001b[0;31mNameError\u001b[0m: name 'LIST1' is not defined"
     ]
    }
   ],
   "source": [
    "LIST1[0] # python is case sensitive..."
   ]
  },
  {
   "cell_type": "code",
   "execution_count": 131,
   "id": "7339b6aa-07d0-422b-94f5-5512d6457725",
   "metadata": {},
   "outputs": [],
   "source": [
    "del list1 # delete a variable"
   ]
  },
  {
   "cell_type": "markdown",
   "id": "6cdf22fe-b9d8-4392-a5ad-ec8e27668aed",
   "metadata": {},
   "source": [
    "### Methods on lists\n",
    "\n",
    "list.append(value_to_add_to_the_end) # we already saw how to add an element to the end\n",
    "\n",
    "list.count(value) # count how many times a value appears in the list\n",
    "\n",
    "list.extend(list) # append an entire list to the initial list\n",
    "\n",
    "list.index(value) # find the index of a value, if it is present more than once, we will get the index of the first one\n",
    "\n",
    "list.index(out_of_range) # if the value is not in the list, we will get a ValueError!\n",
    "\n",
    "list.insert(index, value) # insert a value at a particular index\n",
    "\n",
    "single_element = list.pop(index) # remove an element by its index and assign it to a variable\n",
    "\n",
    "list.remove(value) # remove an element by its value, removes only the first one found with a certain value\n",
    "\n",
    "**Sorting:**\n",
    "in place        list.sort(**kwargs, reverse = False)\\\n",
    "output copy     lists = sorted(list, **kwargs, reverse = False)\n",
    "\n",
    "**Reversing:**\n",
    "in place        list.reverse()\\\n",
    "output copy     listr = list(reversed(list)) # need to cast the output of reversed because it actually returns a generator, not a list"
   ]
  },
  {
   "cell_type": "markdown",
   "id": "7528c680-c780-47b7-9d03-76792eb86117",
   "metadata": {},
   "source": [
    "## tuple\n",
    "\n",
    "A `tuple` is similar to `list`. The difference is that a `tuple` is **immutable**.\n",
    "<br>\n",
    "Thus an element of a `tuple` cannot be changed once it is assigned.\n",
    "<br>\n",
    "A `tuple` is a collection which is **ordered**, **immutable** and accessible by an **index** (it is a sequence).\n",
    "<br>\n",
    "Like `list` a `tuple` can contain any object type, any number of elements, mixed object of different type, can be nested and follows the same slicing rules.\n",
    "\n",
    "* Declared/assigned \n",
    "immutable* For data that do not change using `tuple` guarantee that data is **read-only**\n",
    "* For **constant** function argument\n",
    "* To keep values **together** as a single item and do not need to modify them\n",
    "* Iterating over `tuple` is **faster** than list for immutability\n",
    "* `tuple` can be used as key for a dictionary (see later)"
   ]
  },
  {
   "cell_type": "code",
   "execution_count": 132,
   "id": "f98cc6c4-cad9-4c1a-b2d6-f974665a57da",
   "metadata": {
    "slideshow": {
     "slide_type": "-"
    }
   },
   "outputs": [],
   "source": [
    "t = tuple()\n",
    "t = ()"
   ]
  },
  {
   "cell_type": "code",
   "execution_count": 133,
   "id": "4c931729-5ebb-4225-92ac-ed63ad4ebe96",
   "metadata": {
    "slideshow": {
     "slide_type": "fragment"
    }
   },
   "outputs": [
    {
     "data": {
      "text/plain": [
       "tuple"
      ]
     },
     "execution_count": 133,
     "metadata": {},
     "output_type": "execute_result"
    }
   ],
   "source": [
    "type(t)"
   ]
  },
  {
   "cell_type": "markdown",
   "id": "19aa2dd2-3156-4152-9bf6-2df3d0bfc60e",
   "metadata": {
    "slideshow": {
     "slide_type": "fragment"
    }
   },
   "source": [
    "create a `tuple` by placing all elements inside a round brackets `()` separated by comma"
   ]
  },
  {
   "cell_type": "code",
   "execution_count": 134,
   "id": "ca8f4ddb-cf91-429d-98c3-7326b9f0425e",
   "metadata": {},
   "outputs": [
    {
     "data": {
      "text/plain": [
       "(1, 2, 3)"
      ]
     },
     "execution_count": 134,
     "metadata": {},
     "output_type": "execute_result"
    }
   ],
   "source": [
    "t = (1, 2, 3)\n",
    "\n",
    "t"
   ]
  },
  {
   "cell_type": "code",
   "execution_count": 135,
   "id": "cd2fc5b0-c511-4d52-9c03-0358cbe67c5e",
   "metadata": {
    "scrolled": true,
    "tags": [
     "raises-exception"
    ]
   },
   "outputs": [
    {
     "ename": "TypeError",
     "evalue": "'tuple' object does not support item assignment",
     "output_type": "error",
     "traceback": [
      "\u001b[0;31m---------------------------------------------------------------------------\u001b[0m",
      "\u001b[0;31mTypeError\u001b[0m                                 Traceback (most recent call last)",
      "Cell \u001b[0;32mIn[135], line 1\u001b[0m\n\u001b[0;32m----> 1\u001b[0m \u001b[43mt\u001b[49m\u001b[43m[\u001b[49m\u001b[38;5;241;43m0\u001b[39;49m\u001b[43m]\u001b[49m \u001b[38;5;241m=\u001b[39m \u001b[38;5;241m42\u001b[39m\n",
      "\u001b[0;31mTypeError\u001b[0m: 'tuple' object does not support item assignment"
     ]
    }
   ],
   "source": [
    "t[0] = 42"
   ]
  },
  {
   "cell_type": "markdown",
   "id": "8da6cb27-3dd7-4e26-a6ec-5d3bbd5de1ab",
   "metadata": {},
   "source": [
    "## dicts\n",
    "\n",
    "Dicts are one of the most useful types in python. They are unordered set of key, value pairs with the requirement that the keys are unique.\n",
    "\n",
    "* declare/assign (in python these verbs means the same...) with curly brackets, {}\n",
    "* **unordered**: \n",
    "* **mutable**: key, value pair can be changed\n",
    "* **indexed**: unlike sequences, dictionaries are indexed **by keys** (any immutable type)\n",
    "    * **string** and **number** can always be keys\n",
    "    * **tuple** can be keys only if contains immutable type (directly or indirectly)\n",
    "* **dynamic**: key, value pairs can be added and removed\n",
    "* slice them by using [key]"
   ]
  },
  {
   "cell_type": "code",
   "execution_count": 136,
   "id": "b591fd0e-3f57-4b02-a0c7-6256afb138f6",
   "metadata": {},
   "outputs": [],
   "source": [
    "dict1 = {\n",
    "    'a': 1,\n",
    "    'b': [1,2], # they can contain all kinds of objects...\n",
    "    1: 'c', # trailing comma? no problem! this is dumb-proof\n",
    "}"
   ]
  },
  {
   "cell_type": "code",
   "execution_count": 137,
   "id": "f7ccce17-c4a0-4731-b803-4406642cf6ff",
   "metadata": {},
   "outputs": [
    {
     "data": {
      "text/plain": [
       "{'a': 1, 'b': [1, 2], 1: 'c'}"
      ]
     },
     "execution_count": 137,
     "metadata": {},
     "output_type": "execute_result"
    }
   ],
   "source": [
    "dict1 # in jupyter, instead of printing you can view objects interactively"
   ]
  },
  {
   "cell_type": "code",
   "execution_count": 138,
   "id": "018f1fef-06c2-4a99-a13e-3e9642625e1f",
   "metadata": {},
   "outputs": [
    {
     "data": {
      "text/plain": [
       "dict_keys(['a', 'b', 1])"
      ]
     },
     "execution_count": 138,
     "metadata": {},
     "output_type": "execute_result"
    }
   ],
   "source": [
    "dict1.keys()"
   ]
  },
  {
   "cell_type": "code",
   "execution_count": 139,
   "id": "e2839dec-ad74-4e90-bfc3-59f6d9024255",
   "metadata": {},
   "outputs": [
    {
     "ename": "TypeError",
     "evalue": "'dict_keys' object is not subscriptable",
     "output_type": "error",
     "traceback": [
      "\u001b[0;31m---------------------------------------------------------------------------\u001b[0m",
      "\u001b[0;31mTypeError\u001b[0m                                 Traceback (most recent call last)",
      "Cell \u001b[0;32mIn[139], line 2\u001b[0m\n\u001b[1;32m      1\u001b[0m dict1\u001b[38;5;241m.\u001b[39mkeys() \u001b[38;5;66;03m# this is a \"view\" of something: the keys() method doesn't return any object\u001b[39;00m\n\u001b[0;32m----> 2\u001b[0m \u001b[43mdict1\u001b[49m\u001b[38;5;241;43m.\u001b[39;49m\u001b[43mkeys\u001b[49m\u001b[43m(\u001b[49m\u001b[43m)\u001b[49m\u001b[43m[\u001b[49m\u001b[38;5;241;43m0\u001b[39;49m\u001b[43m]\u001b[49m \u001b[38;5;66;03m# so we cannot slice it\u001b[39;00m\n",
      "\u001b[0;31mTypeError\u001b[0m: 'dict_keys' object is not subscriptable"
     ]
    }
   ],
   "source": [
    "dict1.keys() # this is a \"view\" of something: the keys() method doesn't return any object\n",
    "dict1.keys()[0] # so we cannot slice it"
   ]
  },
  {
   "cell_type": "code",
   "execution_count": 140,
   "id": "f9ed8303-38df-41f8-a924-d914288240b8",
   "metadata": {},
   "outputs": [
    {
     "data": {
      "text/plain": [
       "dict_items([('a', 1), ('b', [1, 2]), (1, 'c')])"
      ]
     },
     "execution_count": 140,
     "metadata": {},
     "output_type": "execute_result"
    }
   ],
   "source": [
    "dict1.items()"
   ]
  },
  {
   "cell_type": "code",
   "execution_count": 141,
   "id": "8228a6a8-b97d-4447-929f-a44ccdf0bfdb",
   "metadata": {},
   "outputs": [
    {
     "name": "stdout",
     "output_type": "stream",
     "text": [
      "1\n",
      "<class 'list'>\n"
     ]
    }
   ],
   "source": [
    "print(dict1['a'])\n",
    "dict1['a'] = [1]\n",
    "print(type(dict1['a'])) # this has changed: dictionaries are mutable"
   ]
  },
  {
   "cell_type": "markdown",
   "id": "36d3a488-4d5b-451b-bfdb-476953d992ae",
   "metadata": {
    "slideshow": {
     "slide_type": "subslide"
    }
   },
   "source": [
    "## set\n",
    "\n",
    "`set` is an **unordered** collections of **unique** elements.\n",
    "<br>\n",
    "set collections do not record element position or insertion order thus sets do **not** support **indexing**.\n",
    "\n",
    "`set` support:\n",
    "* `in` operation\n",
    "* `for` loops\n",
    "* `len` operation\n",
    "\n",
    "`set` is used for:\n",
    "* **removing duplicates** from a sequence\n",
    "* computing operations on sets such as **intersection**, **union**, **difference**, and **symmetric difference**"
   ]
  },
  {
   "cell_type": "markdown",
   "id": "22a7d0d3-5486-4cd2-933c-d4152234af92",
   "metadata": {
    "slideshow": {
     "slide_type": "subslide"
    }
   },
   "source": [
    "define an empty `set` **only** with built-in `set`type object"
   ]
  },
  {
   "cell_type": "code",
   "execution_count": 142,
   "id": "3f25f3f6-c80e-4d70-8fa4-1a210b39d384",
   "metadata": {
    "slideshow": {
     "slide_type": "-"
    }
   },
   "outputs": [],
   "source": [
    "s = set()"
   ]
  },
  {
   "cell_type": "markdown",
   "id": "2bab2e4b-53eb-4a59-9cd4-ca9952c8c393",
   "metadata": {
    "slideshow": {
     "slide_type": "fragment"
    }
   },
   "source": [
    "create a `set` starting from another iterable"
   ]
  },
  {
   "cell_type": "code",
   "execution_count": 143,
   "id": "cfc48ce3-5ab8-41c1-ac02-3df520fcbe0a",
   "metadata": {},
   "outputs": [
    {
     "data": {
      "text/plain": [
       "{'Archimedes', 'Euler', 'Gauss'}"
      ]
     },
     "execution_count": 143,
     "metadata": {},
     "output_type": "execute_result"
    }
   ],
   "source": [
    "s = set([\"Euler\", \"Gauss\", \"Archimedes\"])\n",
    "s"
   ]
  },
  {
   "cell_type": "markdown",
   "id": "6570e4a6-b4bd-446d-855d-5981c106e779",
   "metadata": {
    "slideshow": {
     "slide_type": "fragment"
    }
   },
   "source": [
    "add element to a `set`"
   ]
  },
  {
   "cell_type": "code",
   "execution_count": 144,
   "id": "c552db7a-fb77-4ee9-8688-5888670d225a",
   "metadata": {},
   "outputs": [
    {
     "data": {
      "text/plain": [
       "{'Archimedes', 'Euler', 'Gauss', 'Turing'}"
      ]
     },
     "execution_count": 144,
     "metadata": {},
     "output_type": "execute_result"
    }
   ],
   "source": [
    "s.add(\"Turing\")\n",
    "s"
   ]
  },
  {
   "cell_type": "markdown",
   "id": "b1a84dc0-77c0-4fdf-a8f3-3353061d3ce3",
   "metadata": {
    "slideshow": {
     "slide_type": "subslide"
    }
   },
   "source": [
    "unique elements in a collection"
   ]
  },
  {
   "cell_type": "code",
   "execution_count": 145,
   "id": "aaac6822-0383-4691-b911-f10115854d7f",
   "metadata": {},
   "outputs": [
    {
     "data": {
      "text/plain": [
       "{'Howard', 'Leonard', 'Penny', 'Rajesh', 'Sheldon'}"
      ]
     },
     "execution_count": 145,
     "metadata": {},
     "output_type": "execute_result"
    }
   ],
   "source": [
    "big_bang = ['Sheldon', 'Leonard', 'Howard', 'Rajesh', 'Penny', 'Penny', 'Penny']\n",
    "\n",
    "set(big_bang)"
   ]
  },
  {
   "cell_type": "markdown",
   "id": "14f1835d-a04c-4d13-9c9e-73465d61c68e",
   "metadata": {},
   "source": [
    "# Statements\n",
    "\n",
    "We're gonna explore the _flow of control_, meaning the order in which a program executes the lines of code. In procedural languages, the flow of control is given by the order in which the statements are written. On the other hand, in object-oriented programming languages the flow of control is given by the order of the functions and methods that are used and their implementation.\n",
    "\n",
    "Statements change the flow of control by doing something only if some condition is met, or repeating it until it's not met anymore, or for a defined number of times."
   ]
  },
  {
   "cell_type": "markdown",
   "id": "a6920838-f4e4-4f2f-846a-e95442c22b63",
   "metadata": {},
   "source": [
    "## if statements\n",
    "**or selection control statements, or conditional statements**\n",
    "\n",
    "If is a compound statement, that is comprised by one or more *clauses*, each with a *header* (if, elif, else, etc.) and a *suite* (the body) which contents are delimited with indentation.\n",
    "\n",
    "```\n",
    "if condition:\n",
    "    print(\"condition is met\")\n",
    "```\n",
    "\n",
    "Shorthand sintax: use anything as it was a boolean and python will read it as it was so. Recall that everything that is non-null is True, while 0 and other built-ins that are considered \"empty\" (e.g. None, NaN) are False. So if something is not null, by shorthand sintax it will evaluated as True. E.g.\n",
    "\n",
    "```\n",
    "string = \"String!\"\n",
    "if string:\n",
    "    print(\"It is indeed True\")\n",
    "\n",
    "# Out: It is indeed True\n",
    "```\n",
    "\n",
    "### Relational operators\n",
    "\n",
    "| Operator | Description |\n",
    "| --- | --- | \n",
    "| ==          | equal or value comparison|\n",
    "| !=          | not equal|\n",
    "| <=/>=       | less or equal/greater or equal|\n",
    "| is          | identity comparison: true if (;)) the objects that are compared are actually different aliases of the same object|\n",
    "| is not    | opposite of identity comparison|\n",
    "\n",
    "### Clauses\n",
    "\n",
    "- `else`: allows to specify an alternative instruction to be executed if the condition is not met\n",
    "- `elif`: allows to create an *if ladder*, meaning an if clause followed by an arbitrary number of elif clauses that provide alternative conditions without the need for nesting multiple ifs\n",
    "\n",
    "### Conditions with boolean operations\n",
    "\n",
    "- `and`: true if both true: notice that is a short-circuit evaluation, meaning that if the first element is false, it does not evaluate the second one: this can be used as an advantage when evaluating expressions that could possibly give an error if their argument is empty, in which case you just have to check that it is not empty beforehand in the first part of the AND;\n",
    "- `not`: elegant way to do something if something is False; notice that the sintax is `if not something`;\n",
    "- `or`: true if at least one is true;"
   ]
  },
  {
   "cell_type": "code",
   "execution_count": 146,
   "id": "0559bc7a-7cb8-44b8-b064-65669965a12e",
   "metadata": {},
   "outputs": [
    {
     "name": "stdout",
     "output_type": "stream",
     "text": [
      "it is true.\n",
      "no answer.\n",
      "double negative is positive\n",
      "positive number greater or equal to 1\n"
     ]
    }
   ],
   "source": [
    "if True:\n",
    "    print('it is true.') # this is always printed\n",
    "\n",
    "answer = False\n",
    "if answer:\n",
    "    print(answer)\n",
    "else:\n",
    "    print('no answer.')\n",
    "\n",
    "if not answer:\n",
    "    print('double negative is positive')\n",
    "\n",
    "answer = 1\n",
    "if answer < 0:\n",
    "    print('negative number')\n",
    "elif answer > 0 and answer < 1:\n",
    "    print('positive number between 0 and 1')\n",
    "else:\n",
    "    print('positive number greater or equal to 1')"
   ]
  },
  {
   "cell_type": "markdown",
   "id": "a4d5e89f-aab0-45f3-846d-069ffac57700",
   "metadata": {
    "slideshow": {
     "slide_type": "slide"
    }
   },
   "source": [
    "## while\n",
    "\n",
    "```python\n",
    "while <condition>:\n",
    "    <statements>\n",
    "```\n",
    "* With the `while` loop we can execute a set of statements as long as a condition is True\n",
    "* The `continue` statement stops the current iteration, but continues with the next\n",
    "* The `break` statement stops the loop even if the while condition is True:\n",
    "   * best practise: never let a loop possibly go on forever\n",
    "* A common usage is `break` corresponding to an error or warning condition, e.g. the integral did not reach convergence\n",
    " * in that case after the while end, it would be interesting to know if convergence was reached or not\n",
    " * using booleans might achieve the goal but Python has a more elegant way\n",
    " * `else` clause in while means that the loop ended without executing `break` statements inside"
   ]
  },
  {
   "cell_type": "code",
   "execution_count": 147,
   "id": "80c24067-eed4-48fc-9efa-019fceea07b7",
   "metadata": {
    "slideshow": {
     "slide_type": "fragment"
    }
   },
   "outputs": [
    {
     "name": "stdout",
     "output_type": "stream",
     "text": [
      "1\n",
      "8\n",
      "27\n"
     ]
    }
   ],
   "source": [
    "i = 1\n",
    "while i < 6:\n",
    "    print(i**3)\n",
    "    if i == 3:\n",
    "        break\n",
    "    i += 1"
   ]
  },
  {
   "cell_type": "code",
   "execution_count": 148,
   "id": "1ae85279-4c0d-4168-a04a-7ae66c8f0e9f",
   "metadata": {
    "slideshow": {
     "slide_type": "fragment"
    }
   },
   "outputs": [
    {
     "name": "stdout",
     "output_type": "stream",
     "text": [
      "27\n",
      "125\n",
      "343\n",
      "729\n"
     ]
    }
   ],
   "source": [
    "i = 1\n",
    "while i < 10:\n",
    "    i += 1\n",
    "    if i%2 == 0:\n",
    "        continue\n",
    "    print(i**3)"
   ]
  },
  {
   "cell_type": "markdown",
   "id": "ca098d63-3475-4b42-b825-0aad9aca71fe",
   "metadata": {
    "slideshow": {
     "slide_type": "slide"
    }
   },
   "source": [
    "## `for` and `range`\n",
    "\n",
    "* Python `for` allows to loop over the range values\n",
    "   * statements to be repeated according to for must be properly indented\n",
    "   * `for` can be indented\n",
    "   * `break` and `continue` work here too\n",
    "   * and `else` as well\n",
    "\n",
    "---\n",
    "\n",
    "* range(start, stop, step)\n",
    "   * start (Optional): integer number specifying at which position to start. Default is 0\n",
    "   * stop (Optional): integer number specifying at which position to end.\n",
    "   * step (Optional): integer number specifying the incrementation. Default is 1    "
   ]
  },
  {
   "cell_type": "code",
   "execution_count": 149,
   "id": "1f99defb-be84-4b0f-b684-1ee2f688aa82",
   "metadata": {
    "slideshow": {
     "slide_type": "fragment"
    }
   },
   "outputs": [
    {
     "name": "stdout",
     "output_type": "stream",
     "text": [
      "0 1 2 3 4 \n",
      "------\n",
      "3 5 7 "
     ]
    }
   ],
   "source": [
    "for i in range(5):\n",
    "    print(i, end=\" \")\n",
    "print(\"\\n------\")\n",
    "for i in range(3,8,2):\n",
    "    print(i, end=\" \")"
   ]
  },
  {
   "cell_type": "code",
   "execution_count": 150,
   "id": "3099a91d-59f6-4300-91e4-386779a574c7",
   "metadata": {},
   "outputs": [
    {
     "name": "stdout",
     "output_type": "stream",
     "text": [
      "0 3\n",
      "0 5\n",
      "0 7\n",
      "break\n"
     ]
    }
   ],
   "source": [
    "for i in range(3):\n",
    "    for j in range(3,8,2):\n",
    "        print(i, j)\n",
    "        if i+j > 6: \n",
    "            break # try to comment out this break\n",
    "            print(\"after nested break\")\n",
    "    else:\n",
    "        print(\"continue\")\n",
    "        continue\n",
    "    print(\"break\")\n",
    "    break"
   ]
  },
  {
   "cell_type": "markdown",
   "id": "10b6b9c3-6c2b-4cd6-83a4-7bdc5e00fe95",
   "metadata": {},
   "source": [
    "## Comprehensions\n",
    "\n",
    "This is how you start to think _pythonic_. Comprehensions are a fast, synthetic and elegant way to create containers.\n",
    "\n",
    "You can create list, dict and set comprehensions, by the syntax:\n",
    "type(expression for item in iterable if condition)\n",
    "\n",
    "The if statement can also be omitted if not necessary."
   ]
  },
  {
   "cell_type": "code",
   "execution_count": 151,
   "id": "1627985f-a52f-4981-8bf3-82130c10543e",
   "metadata": {},
   "outputs": [
    {
     "data": {
      "text/plain": [
       "['list', 'list', 'list', 'list']"
      ]
     },
     "execution_count": 151,
     "metadata": {},
     "output_type": "execute_result"
    }
   ],
   "source": [
    "['list' for i in range(4)] # list comprehension"
   ]
  },
  {
   "cell_type": "code",
   "execution_count": 152,
   "id": "1a26331d-3076-449d-9f11-785ab9a0e5d6",
   "metadata": {},
   "outputs": [
    {
     "data": {
      "text/plain": [
       "{'dict': 'value'}"
      ]
     },
     "execution_count": 152,
     "metadata": {},
     "output_type": "execute_result"
    }
   ],
   "source": [
    "{'dict':'value' for i in range(4)} # dict comprehension"
   ]
  },
  {
   "cell_type": "code",
   "execution_count": 153,
   "id": "d93c7062-4958-4e75-aad2-a27edae4f868",
   "metadata": {},
   "outputs": [
    {
     "ename": "NameError",
     "evalue": "what happened!? look at that dictionary!",
     "output_type": "error",
     "traceback": [
      "\u001b[0;31m---------------------------------------------------------------------------\u001b[0m",
      "\u001b[0;31mNameError\u001b[0m                                 Traceback (most recent call last)",
      "Cell \u001b[0;32mIn[153], line 1\u001b[0m\n\u001b[0;32m----> 1\u001b[0m \u001b[38;5;28;01mraise\u001b[39;00m \u001b[38;5;167;01mNameError\u001b[39;00m(\u001b[38;5;124m'\u001b[39m\u001b[38;5;124mwhat happened!? look at that dictionary!\u001b[39m\u001b[38;5;124m'\u001b[39m)\n",
      "\u001b[0;31mNameError\u001b[0m: what happened!? look at that dictionary!"
     ]
    }
   ],
   "source": [
    "raise NameError('what happened!? look at that dictionary!')"
   ]
  },
  {
   "cell_type": "code",
   "execution_count": 154,
   "id": "d2451584-94cd-4866-bdc2-4d8f57f64661",
   "metadata": {},
   "outputs": [
    {
     "name": "stderr",
     "output_type": "stream",
     "text": [
      "/tmp/ipykernel_60669/2670424412.py:3: UserWarning: dictionaries must have unique keys. be careful.\n",
      "  warnings.warn('dictionaries must have unique keys. be careful.')\n"
     ]
    }
   ],
   "source": [
    "import warnings\n",
    "\n",
    "warnings.warn('dictionaries must have unique keys. be careful.')"
   ]
  },
  {
   "cell_type": "code",
   "execution_count": 155,
   "id": "205168fc-340f-484e-bae3-021d8bf2ba6f",
   "metadata": {},
   "outputs": [
    {
     "data": {
      "text/plain": [
       "{'dict_0': 'value', 'dict_1': 'value', 'dict_2': 'value', 'dict_3': 'value'}"
      ]
     },
     "execution_count": 155,
     "metadata": {},
     "output_type": "execute_result"
    }
   ],
   "source": [
    "{'dict_'+str(i):'value' for i in range(4)} # dict comprehension"
   ]
  },
  {
   "cell_type": "code",
   "execution_count": 156,
   "id": "7e7a0edb-e778-4545-bedb-9179a87fef5e",
   "metadata": {},
   "outputs": [
    {
     "data": {
      "text/plain": [
       "{'set_0', 'set_1'}"
      ]
     },
     "execution_count": 156,
     "metadata": {},
     "output_type": "execute_result"
    }
   ],
   "source": [
    "set('set_'+str(i%2) for i in range(5)) # set comprehension; sets are unique containers"
   ]
  },
  {
   "cell_type": "markdown",
   "id": "1ac4aabc-9f86-41a0-a90b-4330044f2781",
   "metadata": {},
   "source": [
    "# Functions\n",
    "\n",
    "A function is a sequence of statements which performs some kind of task. We use functions to eliminate code duplication – instead of writing all the statements at every place in our code where we want to perform the same task, we define them in one place and refer to them by the function name.\n",
    "\n",
    "*def* callable: you can call it as a function (with () at the end) and you could also define new objects of the same class as the callable we are using.\n",
    "\n",
    "```python\n",
    "def function_name(parameters):\n",
    "    \"\"\"Docstring describing the function\"\"\"\n",
    "    # Function body\n",
    "    # ...\n",
    "    return result  # Optional\n",
    "```\n",
    "\n",
    "**A function has only a single return**, BUT the return of a function can be made up by a lot of elements: in this case the return ***packs*** them into a tuple (if they are separated by commas). Once a tuple is returned, you have to ***unpack*** it by assigning a number of variables to the output of the function equal to the number of elements in the tuple\n",
    "\n",
    "```python\n",
    "def multiple_returns(a,b,c)\n",
    "\treturn a,b,c\n",
    "a, b, c = multiple_returns(1,2,3)\n",
    "```\n",
    "\n",
    "---\n",
    "\n",
    "## Default parameters\n",
    "\n",
    "In Python the *signature* of a function is defined ***only by its name***.\n",
    "\n",
    "General syntax:\n",
    "\n",
    "```\n",
    "def function(parameter_1:default_value_1, parameter_2, *args, **kwargs):\n",
    "    # do something\n",
    "    return # or pass, to return nothing\n",
    "```\n",
    "\n",
    "Optional parameters: need to be put at the end of the sequence of parameters, and must be defined with a **default value** so that we can neglect them when passing arguments.\n",
    "To pass arguments to the function one has to **pass positional arguments BEFORE arguments passed with their keyword**.\n",
    "\n",
    "### Mutable types\n",
    "\n",
    "Be careful when passing lists and mutable types as parameters of a function, cause if you modify them in place and return them you could make big mistakes. The right thing to do is the following:\n",
    "\n",
    "```\n",
    "def add_pet_to_list(pet, pets=None):\n",
    "    if pets is None:\n",
    "        pets = []\n",
    "    pets.append(pet)\n",
    "    return pets\n",
    "```\n",
    "\n",
    "---\n",
    "\n",
    "Best practices: \n",
    "* Follow the DRY (Don't Repeat Yourself) principle: If you're writing similar code multiple times, it's probably time to create a function.\n",
    "* Keep functions focused on a single task.\n",
    "* Use meaningful function and parameter names.\n",
    "* Include docstrings to explain what the function does, its parameters, and what it returns.\n",
    "* Use type hints to improve code readability and catch potential errors."
   ]
  },
  {
   "cell_type": "code",
   "execution_count": 157,
   "id": "ff28654b-dafa-46aa-976f-9902abcdbd41",
   "metadata": {},
   "outputs": [
    {
     "name": "stdout",
     "output_type": "stream",
     "text": [
      "25°C is equal to 77.0°F\n"
     ]
    }
   ],
   "source": [
    "def celsius_to_fahrenheit(celsius):\n",
    "    \"\"\"Convert Celsius to Fahrenheit.\"\"\" # this is a docstring, describing the function\n",
    "    return (celsius * 9/5) + 32\n",
    "\n",
    "# Calling the function\n",
    "temp_f = celsius_to_fahrenheit(25)\n",
    "print(f\"25°C is equal to {temp_f}°F\")\n",
    "# Output: 25°C is equal to 77.0°F"
   ]
  },
  {
   "cell_type": "code",
   "execution_count": 158,
   "id": "df8c9092-ec8f-40ca-9bbc-6500c64216b0",
   "metadata": {},
   "outputs": [
    {
     "name": "stderr",
     "output_type": "stream",
     "text": [
      "/tmp/ipykernel_60669/3228545055.py:1: UserWarning: Try this: hold Shift+Tab and move your mouse on the function: you will see the docstring\n",
      "  warnings.warn('Try this: hold Shift+Tab and move your mouse on the function: you will see the docstring')\n"
     ]
    }
   ],
   "source": [
    "warnings.warn('Try this: hold Shift+Tab and move your mouse on the function: you will see the docstring')"
   ]
  },
  {
   "cell_type": "code",
   "execution_count": 159,
   "id": "d7a555a0-0240-4300-b90a-ffdba54e3694",
   "metadata": {},
   "outputs": [
    {
     "name": "stdout",
     "output_type": "stream",
     "text": [
      "NDVI: 0.3333333333333333\n",
      "NDVI: 0.33\n"
     ]
    }
   ],
   "source": [
    "def calculate_ndvi(nir, red): # give the function some parameters\n",
    "    \"\"\"Calculate Normalized Difference Vegetation Index.\"\"\"\n",
    "    return (nir - red) / (nir + red)\n",
    "\n",
    "ndvi = calculate_ndvi(0.8, 0.4)\n",
    "print(f\"NDVI: {ndvi}\") # print full float number\n",
    "print(f\"NDVI: {ndvi:.2f}\") # format string in order to get only 2 decimals"
   ]
  },
  {
   "cell_type": "code",
   "execution_count": 160,
   "id": "922da587-171e-400c-816c-f9e791e1b501",
   "metadata": {},
   "outputs": [
    {
     "name": "stdout",
     "output_type": "stream",
     "text": [
      "{'forest': 50.0, 'urban': 30.0, 'water': 20.0}\n"
     ]
    }
   ],
   "source": [
    "def analyze_landcover(forest, urban, water): # keyword arguments\n",
    "    \"\"\"Analyze land cover percentages.\"\"\"\n",
    "    total = forest + urban + water\n",
    "    return {\n",
    "        \"forest\": forest / total * 100,\n",
    "        \"urban\": urban / total * 100,\n",
    "        \"water\": water / total * 100\n",
    "    }\n",
    "\n",
    "result = analyze_landcover(forest=50, urban=30, water=20)\n",
    "print(result)"
   ]
  },
  {
   "cell_type": "code",
   "execution_count": 161,
   "id": "16ffb25a-7baa-4761-968a-609941f0ac0f",
   "metadata": {},
   "outputs": [
    {
     "name": "stdout",
     "output_type": "stream",
     "text": [
      "1.0\n",
      "10.0\n"
     ]
    }
   ],
   "source": [
    "def scale_reflectance(value, scale_factor=0.0001):\n",
    "    \"\"\"Scale reflectance value.\"\"\"\n",
    "    return value * scale_factor\n",
    "\n",
    "print(scale_reflectance(10000))  # Uses default scale factor\n",
    "print(scale_reflectance(10000, 0.001))  # Uses provided scale factor"
   ]
  },
  {
   "cell_type": "code",
   "execution_count": 162,
   "id": "cb8d9960-a9ee-4405-84a8-79e97e7c1eaf",
   "metadata": {},
   "outputs": [
    {
     "name": "stdout",
     "output_type": "stream",
     "text": [
      "Elevation range: 100m to 300m\n"
     ]
    }
   ],
   "source": [
    "def min_max_elevation(elevation_data):\n",
    "    \"\"\"Return minimum and maximum elevation from a dataset.\"\"\"\n",
    "    return min(elevation_data), max(elevation_data)\n",
    "\n",
    "elevations = [100, 200, 150, 300, 250]\n",
    "min_elev, max_elev = min_max_elevation(elevations)\n",
    "print(f\"Elevation range: {min_elev}m to {max_elev}m\")"
   ]
  },
  {
   "cell_type": "markdown",
   "id": "b74a3c64-79e5-4390-8aca-3152ad327dd6",
   "metadata": {},
   "source": [
    "## *args and **kwargs\n",
    "\n",
    "Sometimes we may want to pass a variable-length list of positional or keyword parameters into a function. We can put *** before a parameter name to indicate that it is a *variable-length tuple of positional parameters***, and we can use ** to indicate that a parameter is a ***variable-length dictionary of keyword parameters*.** By convention, the parameter name we use for the tuple is args and the name we use for the dictionary is kwargs.\n",
    "Inside the function, we can access args as a normal tuple, but the * means that args isn’t passed into the function as a single parameter which is a tuple: instead, it is passed in as a series of individual parameters. Similarly, ** means that kwargs is passed in as a series of individual keyword parameters, rather than a single parameter which is a dictionary.\n",
    "If we decide to pass a previously-defined tuple or dictionary, we need to unpack them inside the signature of the function, and to do that we have to use * or ** when we are calling a function to unpack a sequence or a dictionary into a series of individual parameters."
   ]
  },
  {
   "cell_type": "code",
   "execution_count": 163,
   "id": "acdf1677-ad28-479c-bff5-aebb423a8bf3",
   "metadata": {},
   "outputs": [
    {
     "name": "stdout",
     "output_type": "stream",
     "text": [
      "Mean temperature: 21.40°C\n"
     ]
    }
   ],
   "source": [
    "def calculate_mean(*args):\n",
    "    \"\"\"Calculate mean of given values.\"\"\"\n",
    "    return sum(args) / len(args)\n",
    "\n",
    "mean_temp = calculate_mean(20.5, 22.1, 23.4, 19.8, 21.2)\n",
    "print(f\"Mean temperature: {mean_temp:.2f}°C\")\n",
    "# Output: Mean temperature: 21.40°C"
   ]
  },
  {
   "cell_type": "code",
   "execution_count": 164,
   "id": "c13dd5be-ec2f-477c-a765-d3867b4032be",
   "metadata": {},
   "outputs": [
    {
     "name": "stdout",
     "output_type": "stream",
     "text": [
      "satellite: Landsat 8\n",
      "date: 2024-07-25\n",
      "cloud_cover: 10.5\n"
     ]
    }
   ],
   "source": [
    "def metadata(**kwargs):\n",
    "    \"\"\"Print metadata key-value pairs.\"\"\"\n",
    "    for key, value in kwargs.items():\n",
    "        print(f\"{key}: {value}\")\n",
    "\n",
    "metadata(satellite=\"Landsat 8\", date=\"2024-07-25\", cloud_cover=10.5)"
   ]
  },
  {
   "cell_type": "markdown",
   "id": "5e440b17-9970-466e-9ca4-e8c15c01c783",
   "metadata": {},
   "source": [
    "## lambda functions\n",
    "\n",
    "These are \"anonymous functions\" that can be defined to perform simple operations in a very, very pythonic way. Ideal when you have a single operation to map for instance in a list comprehension."
   ]
  },
  {
   "cell_type": "code",
   "execution_count": 165,
   "id": "92787f36-5615-411a-a914-2f55cf753fe8",
   "metadata": {},
   "outputs": [
    {
     "name": "stdout",
     "output_type": "stream",
     "text": [
      "[32.0, 50.0, 68.0, 86.0, 104.0]\n"
     ]
    }
   ],
   "source": [
    "# Convert a list of temperatures from Celsius to Fahrenheit\n",
    "celsius_temps = [0, 10, 20, 30, 40]\n",
    "fahrenheit_temps = list(map(lambda c: (c * 9/5) + 32, celsius_temps))\n",
    "print(fahrenheit_temps)"
   ]
  },
  {
   "cell_type": "code",
   "execution_count": 166,
   "id": "449e4e43-922e-422e-a6f1-c95e30f54afd",
   "metadata": {},
   "outputs": [
    {
     "ename": "EOFError",
     "evalue": "Fin!",
     "output_type": "error",
     "traceback": [
      "\u001b[0;31m---------------------------------------------------------------------------\u001b[0m",
      "\u001b[0;31mEOFError\u001b[0m                                  Traceback (most recent call last)",
      "Cell \u001b[0;32mIn[166], line 1\u001b[0m\n\u001b[0;32m----> 1\u001b[0m \u001b[38;5;28;01mraise\u001b[39;00m \u001b[38;5;167;01mEOFError\u001b[39;00m(\u001b[38;5;124m'\u001b[39m\u001b[38;5;124mFin!\u001b[39m\u001b[38;5;124m'\u001b[39m)\n",
      "\u001b[0;31mEOFError\u001b[0m: Fin!"
     ]
    }
   ],
   "source": [
    "raise EOFError('Fin!')"
   ]
  }
 ],
 "metadata": {
  "kernelspec": {
   "display_name": "Python 3 (ipykernel)",
   "language": "python",
   "name": "python3"
  },
  "language_info": {
   "codemirror_mode": {
    "name": "ipython",
    "version": 3
   },
   "file_extension": ".py",
   "mimetype": "text/x-python",
   "name": "python",
   "nbconvert_exporter": "python",
   "pygments_lexer": "ipython3",
   "version": "3.12.4"
  }
 },
 "nbformat": 4,
 "nbformat_minor": 5
}
