{
 "cells": [
  {
   "cell_type": "markdown",
   "id": "c22a5d53-3cf8-4222-b98a-250376ea01a1",
   "metadata": {},
   "source": [
    "# Workshop on Python programming for data analysis in geosciences\n",
    "\n",
    "Author: Martina Natali (martinanatali@cnr.it)\n",
    "\n",
    "Full material available at:\n",
    "\n",
    "https://github.com/martina01natali/Python_Workshops\n",
    "\n",
    "Run this command to download everything:\n",
    "\n",
    "`git clone https://github.com/martina01natali/Python_Workshops.git`\n",
    "\n",
    "Follow me on GitHub! :)"
   ]
  },
  {
   "cell_type": "markdown",
   "id": "b66818f2-a094-44b8-a7e6-b8737394d9b1",
   "metadata": {},
   "source": [
    "## Notes on how to use Jupyter notebooks (more at the end of this notebook)\n",
    "\n",
    "Jupyter notebooks are interactive, so you can use each cell (this block you're reading) as an interactive python line to execute commands and operations.\n",
    "\n",
    "* run a cell: Ctrl+Enter\n",
    "* run a cell and go the next one: Shift+Enter\n",
    "* new cell: B (when no cell is open, else Esc+B)"
   ]
  },
  {
   "cell_type": "markdown",
   "id": "63a28606-d859-4e52-be85-4791310a8c08",
   "metadata": {},
   "source": [
    "---"
   ]
  },
  {
   "cell_type": "markdown",
   "id": "66da0469-06ee-4646-97b3-86ca2e70c83e",
   "metadata": {},
   "source": [
    "## Python language\n",
    "\n",
    "* Python is an interpreted high-level programming language for general-purpose programming. \n",
    "* Conceived in the late 1980s by Guido van Rossum in the Netherlands \n",
    "* First release in 1991\n",
    "* Python 2.0 released in 2000\n",
    "* Python 3.0 released in 2008\n",
    "   * **Not completely backward-compatible**\n",
    "   * In 2018 usage statistics finally report 25%/75% for Python2/3 respectively\n",
    "   * Python 2.7 end-of-life postponed from 2015 to 2020 due to forward-porting difficulties of many portions of code\n",
    "   * **We will mainly focus on Python 3.x during this course** \n",
    "   * There is the utility 2to3 to convert code from the old to the new python (not completely effective)\n",
    "* Python evolves through so called PEPs (Python Enhancement Proposal) https://peps.python.org/"
   ]
  },
  {
   "cell_type": "markdown",
   "id": "19ddac12-91f2-4e42-b05d-5012f6509792",
   "metadata": {},
   "source": [
    "## Philosophy\n",
    "\n",
    "* A common neologism in code is **pythonic**, i.e. a code which uses Python idioms following the recommendations of the Python community\n",
    "* Useful PEPs are PEP 20, PEP 8 (style guide) (click here to see examples of well-written, pythonic code: https://peps.python.org/pep-0008/)\n",
    "* The Zen of Python (PEP 20) summarizes Python philosophy through aphorisms such as:\n",
    "\n",
    "<pre style=\"font-size: 24px;\">\n",
    "Beautiful is better than ugly.\n",
    "Explicit is better than implicit.\n",
    "Simple is better than complex.\n",
    "Complex is better than complicated.\n",
    "Flat is better than nested.\n",
    "Sparse is better than dense.\n",
    "Readability counts.\n",
    "Special cases aren't special enough to break the rules.\n",
    "Although practicality beats purity.\n",
    "Errors should never pass silently.\n",
    "Unless explicitly silenced.\n",
    "In the face of ambiguity, refuse the temptation to guess.\n",
    "There should be one-- and preferably only one --obvious way to do it.\n",
    "Although that way may not be obvious at first unless you're Dutch.\n",
    "Now is better than never.\n",
    "Although never is often better than *right* now.\n",
    "If the implementation is hard to explain, it's a bad idea.\n",
    "If the implementation is easy to explain, it may be a good idea.\n",
    "Namespaces are one honking great idea -- let's do more of those!\n",
    "</pre>"
   ]
  },
  {
   "cell_type": "markdown",
   "id": "a713b9f5-1d7a-493b-9684-b4a210b7f046",
   "metadata": {},
   "source": [
    "## Running Python scripts via command line (Linux)\n",
    "To run a Python script just write your code giving (usually) `.py` extension and then run\n",
    "\n",
    "```shell\n",
    "python3 script_file_name.py\n",
    "```\n",
    "\n",
    "If you want to avoid the name of the interpreter you have to specify the *shebang* line at the beginning of the file\n",
    "\n",
    "```python\n",
    "#!/usr/bin/env python3\n",
    "```\n",
    "\n",
    "replacing `python3` with `python2` (if you really need Python 2)\n",
    "\n",
    "If you have a code which is compatible with both Python 2 and Python 3 (on realistic codes you have to work to achieve this) you can use the generic shebang\n",
    "\n",
    "```python\n",
    "#!/usr/bin/env python\n",
    "```\n",
    "\n",
    "Of course you also have to make the script executable if you want to call as `./script_file_name.py`\n",
    "\n",
    "```shell\n",
    "chmod +x script_file_name.py\n",
    "```"
   ]
  },
  {
   "cell_type": "markdown",
   "id": "013427da-981e-410a-aef5-61e7c7d9bb67",
   "metadata": {},
   "source": [
    "## Jupyter notebook\n",
    "\n",
    "* You can start it from a terminal by running \n",
    "\n",
    "```shell\n",
    "jupyter notebook\n",
    "```\n",
    "    or\n",
    "```shell\n",
    "jupyter lab\n",
    "```\n",
    "\n",
    "* A browser is automatically opened with the a browsable view on your home \n",
    "* You can either\n",
    "   * open an existing notebook clicking to the notebook filename (.ipynb extension)\n",
    "   * start a new notebook (New button in top-right) selecting the kernel from the list of the installed ones\n",
    "   * open a terminal (New button)"
   ]
  },
  {
   "cell_type": "markdown",
   "id": "baa08a25-bf5e-40c0-a636-6298dbc561b6",
   "metadata": {},
   "source": [
    "## Using notebooks\n",
    "* A notebook is composed by cells:\n",
    "   * **code**: cells containing Python code which can be executed (press y outside of the cell to make it code) \n",
    "   * **markdown**: cells containing text which can be formatted using easy Markdown language (a superset of HTML) (press m outside of the cell to make it markdown)\n",
    "    https://guides.github.com/features/mastering-markdown/\n",
    "   * **raw**: cells with unformatted text (press r outside of the cell to make it raw), which are useful if you want to exclude frmo execution a specific cell\n",
    "* The cool feature on *code* is executing it inside the cell itself\n",
    "   * using mouse press the Run buttons\n",
    "   * with keyboard use Ctrl+Enter, Shift+Enter or Alt+Enter\n",
    "   * There are several shortcuts to become quick using notebooks\n",
    "      * check the Keboard Shortcuts under the Help menu"
   ]
  },
  {
   "cell_type": "markdown",
   "id": "18a8ff95-ef99-4371-8119-e7c3658d676c",
   "metadata": {},
   "source": [
    "## Environment managing\n",
    "\n",
    "We are working in a Python environment, which has some libraries installed and specific features.\n",
    "\n",
    "The rules are:\n",
    "* when working on a project, create an environment for that specific project, with the packages you need\n",
    "* packages/libraries have to be manually downloaded in the environment to make them work: the best option is to download them all at the beginning when creating the environment, so that the package manager (`conda`) can do the work of making all packages compatible with each other\n",
    "* if you download packages with a specific channel (e.g. conda-forge), prefer using that channel and not the `pip` installer, since `pip` superseeds conda packages and may cause the packages to be incompatible (potentially \"breaking\" your environment)"
   ]
  },
  {
   "cell_type": "code",
   "execution_count": 4,
   "id": "cef8263d-9d50-4679-b931-2c4cedc1cea2",
   "metadata": {},
   "outputs": [
    {
     "name": "stdout",
     "output_type": "stream",
     "text": [
      "Channels:\n",
      " - conda-forge\n",
      " - defaults\n",
      "Platform: linux-64\n",
      "Collecting package metadata (repodata.json): \\ ^C\n"
     ]
    }
   ],
   "source": [
    "# to install a package\n",
    "# the ! at the beginning makes the line a command line to run on the terminal\n",
    "!conda install -c conda-forge rasterio"
   ]
  },
  {
   "cell_type": "code",
   "execution_count": 5,
   "id": "e5abe8b3-220f-48b8-a562-ecf40cae7a01",
   "metadata": {},
   "outputs": [
    {
     "name": "stdout",
     "output_type": "stream",
     "text": [
      "Collecting hydroeval\n",
      "  Using cached hydroeval-0.1.0-py3-none-any.whl.metadata (4.8 kB)\n",
      "Requirement already satisfied: numpy in ./conda/envs/geoenv/lib/python3.12/site-packages (from hydroeval) (2.0.0)\n",
      "Using cached hydroeval-0.1.0-py3-none-any.whl (22 kB)\n",
      "Installing collected packages: hydroeval\n",
      "Successfully installed hydroeval-0.1.0\n",
      "Note: you may need to restart the kernel to use updated packages.\n"
     ]
    }
   ],
   "source": [
    "# installing using pip: some packages are not available on conda-forge\n",
    "# and we have to get them from another repository\n",
    "pip install hydroeval"
   ]
  },
  {
   "cell_type": "markdown",
   "id": "8c08f891-fea5-47ae-9d9c-99656354a923",
   "metadata": {},
   "source": [
    "To restart the kernel: go in the menu of jupyter, Kernel->Restart kernel"
   ]
  },
  {
   "cell_type": "markdown",
   "id": "32d67117-271d-4950-9a17-4ae53ecfd63c",
   "metadata": {},
   "source": [
    "## The requirement file\n",
    "\n",
    "If you want to specify all dependencies and versions used in a project you can use a **requirement file**.<br>\n",
    "A requirement file allows to specify which packages and versions should be installed for the project.<br>\n",
    "`pip freeze` command shows all installed packages in requirements format.<br>\n",
    "Its output can be redirect to a file (the requirement file)."
   ]
  },
  {
   "cell_type": "code",
   "execution_count": null,
   "id": "29ebcd7a-173c-43a6-bac8-09afebc2e83d",
   "metadata": {},
   "outputs": [],
   "source": [
    "pip freeze > requirements_geoenv.txt"
   ]
  },
  {
   "cell_type": "markdown",
   "id": "9b1e4ee3-a1fa-4008-a166-d0e264e969b5",
   "metadata": {},
   "source": [
    "Once you have a requirement file you can replicate the same environment in another system with the command `pip install` with `-r` option:"
   ]
  },
  {
   "cell_type": "code",
   "execution_count": null,
   "id": "81d11d5d-9203-47e7-961d-caa6d26746cb",
   "metadata": {},
   "outputs": [],
   "source": [
    "pip install -r requirements_geoenv.txt"
   ]
  },
  {
   "cell_type": "markdown",
   "id": "6613ec91-6f6c-4024-b991-e0f5d916004f",
   "metadata": {},
   "source": [
    "## ...ready?"
   ]
  },
  {
   "cell_type": "code",
   "execution_count": 2,
   "id": "bc36377c-c7e0-407d-854c-61d95edb5fb6",
   "metadata": {},
   "outputs": [
    {
     "name": "stdout",
     "output_type": "stream",
     "text": [
      "Hello World!\n"
     ]
    }
   ],
   "source": [
    "print(\"Hello World!\")"
   ]
  }
 ],
 "metadata": {
  "kernelspec": {
   "display_name": "Python 3 (ipykernel)",
   "language": "python",
   "name": "python3"
  },
  "language_info": {
   "codemirror_mode": {
    "name": "ipython",
    "version": 3
   },
   "file_extension": ".py",
   "mimetype": "text/x-python",
   "name": "python",
   "nbconvert_exporter": "python",
   "pygments_lexer": "ipython3",
   "version": "3.12.4"
  }
 },
 "nbformat": 4,
 "nbformat_minor": 5
}
